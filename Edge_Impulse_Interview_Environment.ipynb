{
  "nbformat": 4,
  "nbformat_minor": 0,
  "metadata": {
    "colab": {
      "provenance": [],
      "toc_visible": true
    },
    "kernelspec": {
      "name": "python3",
      "display_name": "Python 3"
    },
    "language_info": {
      "name": "python"
    }
  },
  "cells": [
    {
      "cell_type": "markdown",
      "source": [
        "Run the script in this transformation block on an example data file, you can use:\n",
        "\n",
        "```\n",
        "%run filename.py --args\n",
        "```\n",
        "\n"
      ],
      "metadata": {
        "id": "t-kfrTEwu5q5"
      }
    },
    {
      "cell_type": "code",
      "source": [],
      "metadata": {
        "id": "ChCtXIpUt_KT"
      },
      "execution_count": null,
      "outputs": []
    }
  ]
}