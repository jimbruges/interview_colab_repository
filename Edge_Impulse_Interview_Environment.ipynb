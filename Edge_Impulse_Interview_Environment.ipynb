{
  "cells": [
    {
      "cell_type": "markdown",
      "metadata": {},
      "source": [
        "Customers collect data in many different formats. One of the common tasks we undertake in solutions is helping customers to ingest their datasets for the first time into Edge Impulse. "
      ]
    },
    {
      "cell_type": "markdown",
      "metadata": {},
      "source": [
        "1. Take us through what this transformation block code does\n",
        "2. Choose an appropriate sample length"
      ]
    },
    {
      "cell_type": "markdown",
      "metadata": {
        "id": "t-kfrTEwu5q5"
      },
      "source": [
        "3. Run the script in this transformation block on an example data file, with your chosen sample length. \n",
        "You can use this method to run in the notebook cell below:\n",
        "\n",
        "```\n",
        "%run filename.py --args\n",
        "```\n",
        "\n"
      ]
    },
    {
      "cell_type": "code",
      "execution_count": null,
      "metadata": {
        "id": "ChCtXIpUt_KT"
      },
      "outputs": [],
      "source": []
    }
  ],
  "metadata": {
    "colab": {
      "provenance": [],
      "toc_visible": true
    },
    "kernelspec": {
      "display_name": "Python 3",
      "name": "python3"
    },
    "language_info": {
      "name": "python"
    }
  },
  "nbformat": 4,
  "nbformat_minor": 0
}
